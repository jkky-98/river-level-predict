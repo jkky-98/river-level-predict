{
 "cells": [
  {
   "cell_type": "code",
   "execution_count": 25,
   "id": "d8d33f6e",
   "metadata": {
    "ExecuteTime": {
     "end_time": "2022-12-06T11:01:23.073200Z",
     "start_time": "2022-12-06T11:01:23.055155Z"
    }
   },
   "outputs": [
    {
     "data": {
      "text/html": [
       "<div>\n",
       "<style scoped>\n",
       "    .dataframe tbody tr th:only-of-type {\n",
       "        vertical-align: middle;\n",
       "    }\n",
       "\n",
       "    .dataframe tbody tr th {\n",
       "        vertical-align: top;\n",
       "    }\n",
       "\n",
       "    .dataframe thead th {\n",
       "        text-align: right;\n",
       "    }\n",
       "</style>\n",
       "<table border=\"1\" class=\"dataframe\">\n",
       "  <thead>\n",
       "    <tr style=\"text-align: right;\">\n",
       "      <th></th>\n",
       "      <th>Unnamed: 0</th>\n",
       "      <th>0</th>\n",
       "    </tr>\n",
       "  </thead>\n",
       "  <tbody>\n",
       "    <tr>\n",
       "      <th>0</th>\n",
       "      <td>2017.1.1 0:00</td>\n",
       "      <td>268</td>\n",
       "    </tr>\n",
       "    <tr>\n",
       "      <th>1</th>\n",
       "      <td>2017.1.1 1:00</td>\n",
       "      <td>192</td>\n",
       "    </tr>\n",
       "    <tr>\n",
       "      <th>2</th>\n",
       "      <td>2017.1.1 2:00</td>\n",
       "      <td>132</td>\n",
       "    </tr>\n",
       "    <tr>\n",
       "      <th>3</th>\n",
       "      <td>2017.1.1 3:00</td>\n",
       "      <td>89</td>\n",
       "    </tr>\n",
       "    <tr>\n",
       "      <th>4</th>\n",
       "      <td>2017.1.1 4:00</td>\n",
       "      <td>176</td>\n",
       "    </tr>\n",
       "  </tbody>\n",
       "</table>\n",
       "</div>"
      ],
      "text/plain": [
       "      Unnamed: 0    0\n",
       "0  2017.1.1 0:00  268\n",
       "1  2017.1.1 1:00  192\n",
       "2  2017.1.1 2:00  132\n",
       "3  2017.1.1 3:00   89\n",
       "4  2017.1.1 4:00  176"
      ]
     },
     "execution_count": 25,
     "metadata": {},
     "output_type": "execute_result"
    }
   ],
   "source": [
    "import pandas as pd\n",
    "import datetime\n",
    "\n",
    "df = pd.read_csv('/Users/jkky/Documents/4_2_semester/기계학습기초/기말프로젝트/tide.csv')\n",
    "df.head()"
   ]
  },
  {
   "cell_type": "code",
   "execution_count": 26,
   "id": "518dbd1e",
   "metadata": {
    "ExecuteTime": {
     "end_time": "2022-12-06T11:01:24.043485Z",
     "start_time": "2022-12-06T11:01:24.040900Z"
    }
   },
   "outputs": [
    {
     "data": {
      "text/plain": [
       "Unnamed: 0    object\n",
       "0              int64\n",
       "dtype: object"
      ]
     },
     "execution_count": 26,
     "metadata": {},
     "output_type": "execute_result"
    }
   ],
   "source": [
    "df.dtypes"
   ]
  },
  {
   "cell_type": "code",
   "execution_count": 27,
   "id": "0049cfeb",
   "metadata": {
    "ExecuteTime": {
     "end_time": "2022-12-06T11:01:25.125897Z",
     "start_time": "2022-12-06T11:01:25.123162Z"
    }
   },
   "outputs": [
    {
     "data": {
      "text/plain": [
       "0           2017.1.1 0:00\n",
       "1           2017.1.1 1:00\n",
       "2           2017.1.1 2:00\n",
       "3           2017.1.1 3:00\n",
       "4           2017.1.1 4:00\n",
       "               ...       \n",
       "42915    2021.12.31 20:00\n",
       "42916    2021.12.31 21:00\n",
       "42917    2021.12.31 22:00\n",
       "42918    2021.12.31 23:00\n",
       "42919       2022.1.1 0:00\n",
       "Name: Unnamed: 0, Length: 42920, dtype: object"
      ]
     },
     "execution_count": 27,
     "metadata": {},
     "output_type": "execute_result"
    }
   ],
   "source": [
    "df['Unnamed: 0']"
   ]
  },
  {
   "cell_type": "code",
   "execution_count": 28,
   "id": "aaeee80a",
   "metadata": {
    "ExecuteTime": {
     "end_time": "2022-12-06T11:01:26.187739Z",
     "start_time": "2022-12-06T11:01:26.180511Z"
    }
   },
   "outputs": [],
   "source": [
    "df['Unnamed: 0'] = pd.to_datetime(df['Unnamed: 0'], format='%Y-%m-%d %H:%M:%S', errors='raise')"
   ]
  },
  {
   "cell_type": "code",
   "execution_count": 29,
   "id": "784c6557",
   "metadata": {
    "ExecuteTime": {
     "end_time": "2022-12-06T11:01:26.982677Z",
     "start_time": "2022-12-06T11:01:26.980717Z"
    }
   },
   "outputs": [],
   "source": [
    "dates = pd.date_range('2017-01-01','2021-12-31',freq='H')\n"
   ]
  },
  {
   "cell_type": "code",
   "execution_count": 30,
   "id": "f6a2d7c9",
   "metadata": {
    "ExecuteTime": {
     "end_time": "2022-12-06T11:01:27.978612Z",
     "start_time": "2022-12-06T11:01:27.974089Z"
    }
   },
   "outputs": [],
   "source": [
    "df.set_index('Unnamed: 0', drop=True, inplace=True)"
   ]
  },
  {
   "cell_type": "code",
   "execution_count": 31,
   "id": "e5036aac",
   "metadata": {
    "ExecuteTime": {
     "end_time": "2022-12-06T11:01:28.868575Z",
     "start_time": "2022-12-06T11:01:28.860243Z"
    }
   },
   "outputs": [
    {
     "data": {
      "text/html": [
       "<div>\n",
       "<style scoped>\n",
       "    .dataframe tbody tr th:only-of-type {\n",
       "        vertical-align: middle;\n",
       "    }\n",
       "\n",
       "    .dataframe tbody tr th {\n",
       "        vertical-align: top;\n",
       "    }\n",
       "\n",
       "    .dataframe thead th {\n",
       "        text-align: right;\n",
       "    }\n",
       "</style>\n",
       "<table border=\"1\" class=\"dataframe\">\n",
       "  <thead>\n",
       "    <tr style=\"text-align: right;\">\n",
       "      <th></th>\n",
       "      <th>0</th>\n",
       "    </tr>\n",
       "    <tr>\n",
       "      <th>Unnamed: 0</th>\n",
       "      <th></th>\n",
       "    </tr>\n",
       "  </thead>\n",
       "  <tbody>\n",
       "    <tr>\n",
       "      <th>2017-01-01 00:00:00</th>\n",
       "      <td>268</td>\n",
       "    </tr>\n",
       "    <tr>\n",
       "      <th>2017-01-01 01:00:00</th>\n",
       "      <td>192</td>\n",
       "    </tr>\n",
       "    <tr>\n",
       "      <th>2017-01-01 02:00:00</th>\n",
       "      <td>132</td>\n",
       "    </tr>\n",
       "    <tr>\n",
       "      <th>2017-01-01 03:00:00</th>\n",
       "      <td>89</td>\n",
       "    </tr>\n",
       "    <tr>\n",
       "      <th>2017-01-01 04:00:00</th>\n",
       "      <td>176</td>\n",
       "    </tr>\n",
       "  </tbody>\n",
       "</table>\n",
       "</div>"
      ],
      "text/plain": [
       "                       0\n",
       "Unnamed: 0              \n",
       "2017-01-01 00:00:00  268\n",
       "2017-01-01 01:00:00  192\n",
       "2017-01-01 02:00:00  132\n",
       "2017-01-01 03:00:00   89\n",
       "2017-01-01 04:00:00  176"
      ]
     },
     "execution_count": 31,
     "metadata": {},
     "output_type": "execute_result"
    }
   ],
   "source": [
    "df.head()"
   ]
  },
  {
   "cell_type": "code",
   "execution_count": 32,
   "id": "7e6a7483",
   "metadata": {
    "ExecuteTime": {
     "end_time": "2022-12-06T11:01:29.911980Z",
     "start_time": "2022-12-06T11:01:29.897501Z"
    }
   },
   "outputs": [],
   "source": [
    "df_total = pd.DataFrame(index=dates, columns=['tide'])\n",
    "df_total = pd.merge(df_total, df, left_index=True, right_index=True, how='left')"
   ]
  },
  {
   "cell_type": "code",
   "execution_count": 33,
   "id": "2c471b6b",
   "metadata": {
    "ExecuteTime": {
     "end_time": "2022-12-06T11:01:34.018815Z",
     "start_time": "2022-12-06T11:01:34.007454Z"
    }
   },
   "outputs": [
    {
     "data": {
      "text/html": [
       "<div>\n",
       "<style scoped>\n",
       "    .dataframe tbody tr th:only-of-type {\n",
       "        vertical-align: middle;\n",
       "    }\n",
       "\n",
       "    .dataframe tbody tr th {\n",
       "        vertical-align: top;\n",
       "    }\n",
       "\n",
       "    .dataframe thead th {\n",
       "        text-align: right;\n",
       "    }\n",
       "</style>\n",
       "<table border=\"1\" class=\"dataframe\">\n",
       "  <thead>\n",
       "    <tr style=\"text-align: right;\">\n",
       "      <th></th>\n",
       "      <th>tide</th>\n",
       "    </tr>\n",
       "  </thead>\n",
       "  <tbody>\n",
       "    <tr>\n",
       "      <th>2017-01-01 00:00:00</th>\n",
       "      <td>268.0</td>\n",
       "    </tr>\n",
       "    <tr>\n",
       "      <th>2017-01-01 01:00:00</th>\n",
       "      <td>192.0</td>\n",
       "    </tr>\n",
       "    <tr>\n",
       "      <th>2017-01-01 02:00:00</th>\n",
       "      <td>132.0</td>\n",
       "    </tr>\n",
       "    <tr>\n",
       "      <th>2017-01-01 03:00:00</th>\n",
       "      <td>89.0</td>\n",
       "    </tr>\n",
       "    <tr>\n",
       "      <th>2017-01-01 04:00:00</th>\n",
       "      <td>176.0</td>\n",
       "    </tr>\n",
       "  </tbody>\n",
       "</table>\n",
       "</div>"
      ],
      "text/plain": [
       "                      tide\n",
       "2017-01-01 00:00:00  268.0\n",
       "2017-01-01 01:00:00  192.0\n",
       "2017-01-01 02:00:00  132.0\n",
       "2017-01-01 03:00:00   89.0\n",
       "2017-01-01 04:00:00  176.0"
      ]
     },
     "execution_count": 33,
     "metadata": {},
     "output_type": "execute_result"
    }
   ],
   "source": [
    "df_total = df_total[['0']]\n",
    "df_total.rename(columns={'0': 'tide'}, inplace=True)\n",
    "df_total.head()"
   ]
  },
  {
   "cell_type": "code",
   "execution_count": 34,
   "id": "346d2fc2",
   "metadata": {
    "ExecuteTime": {
     "end_time": "2022-12-06T11:01:35.493969Z",
     "start_time": "2022-12-06T11:01:35.448969Z"
    }
   },
   "outputs": [],
   "source": [
    "df_dam = pd.read_csv('/Users/jkky/Documents/4_2_semester/기계학습기초/기말프로젝트/dam.csv')"
   ]
  },
  {
   "cell_type": "code",
   "execution_count": 35,
   "id": "47377e61",
   "metadata": {
    "ExecuteTime": {
     "end_time": "2022-12-06T11:01:38.278220Z",
     "start_time": "2022-12-06T11:01:38.256866Z"
    }
   },
   "outputs": [],
   "source": [
    "df_dam['date'] = pd.to_datetime(df_dam['date'], format='%Y-%m-%d %H:%M:%S', errors='raise')"
   ]
  },
  {
   "cell_type": "code",
   "execution_count": 36,
   "id": "ea8d061f",
   "metadata": {
    "ExecuteTime": {
     "end_time": "2022-12-06T11:01:39.567428Z",
     "start_time": "2022-12-06T11:01:39.545655Z"
    }
   },
   "outputs": [
    {
     "data": {
      "text/html": [
       "<div>\n",
       "<style scoped>\n",
       "    .dataframe tbody tr th:only-of-type {\n",
       "        vertical-align: middle;\n",
       "    }\n",
       "\n",
       "    .dataframe tbody tr th {\n",
       "        vertical-align: top;\n",
       "    }\n",
       "\n",
       "    .dataframe thead th {\n",
       "        text-align: right;\n",
       "    }\n",
       "</style>\n",
       "<table border=\"1\" class=\"dataframe\">\n",
       "  <thead>\n",
       "    <tr style=\"text-align: right;\">\n",
       "      <th></th>\n",
       "      <th>wl</th>\n",
       "      <th>iqty</th>\n",
       "      <th>rain</th>\n",
       "      <th>tdqty</th>\n",
       "    </tr>\n",
       "    <tr>\n",
       "      <th>date</th>\n",
       "      <th></th>\n",
       "      <th></th>\n",
       "      <th></th>\n",
       "      <th></th>\n",
       "    </tr>\n",
       "  </thead>\n",
       "  <tbody>\n",
       "    <tr>\n",
       "      <th>2017-01-01 01:00:00</th>\n",
       "      <td>25.22</td>\n",
       "      <td>152.3</td>\n",
       "      <td>0.0</td>\n",
       "      <td>92.0</td>\n",
       "    </tr>\n",
       "    <tr>\n",
       "      <th>2017-01-01 02:00:00</th>\n",
       "      <td>25.22</td>\n",
       "      <td>134.6</td>\n",
       "      <td>0.0</td>\n",
       "      <td>88.0</td>\n",
       "    </tr>\n",
       "    <tr>\n",
       "      <th>2017-01-01 03:00:00</th>\n",
       "      <td>25.23</td>\n",
       "      <td>161.2</td>\n",
       "      <td>0.0</td>\n",
       "      <td>92.0</td>\n",
       "    </tr>\n",
       "    <tr>\n",
       "      <th>2017-01-01 04:00:00</th>\n",
       "      <td>25.22</td>\n",
       "      <td>63.2</td>\n",
       "      <td>0.0</td>\n",
       "      <td>88.0</td>\n",
       "    </tr>\n",
       "    <tr>\n",
       "      <th>2017-01-01 05:00:00</th>\n",
       "      <td>25.23</td>\n",
       "      <td>132.5</td>\n",
       "      <td>0.0</td>\n",
       "      <td>92.0</td>\n",
       "    </tr>\n",
       "    <tr>\n",
       "      <th>...</th>\n",
       "      <td>...</td>\n",
       "      <td>...</td>\n",
       "      <td>...</td>\n",
       "      <td>...</td>\n",
       "    </tr>\n",
       "    <tr>\n",
       "      <th>2021-12-31 20:00:00</th>\n",
       "      <td>24.93</td>\n",
       "      <td>126.9</td>\n",
       "      <td>0.0</td>\n",
       "      <td>126.2</td>\n",
       "    </tr>\n",
       "    <tr>\n",
       "      <th>2021-12-31 21:00:00</th>\n",
       "      <td>24.92</td>\n",
       "      <td>126.8</td>\n",
       "      <td>0.0</td>\n",
       "      <td>126.7</td>\n",
       "    </tr>\n",
       "    <tr>\n",
       "      <th>2021-12-31 22:00:00</th>\n",
       "      <td>24.90</td>\n",
       "      <td>126.3</td>\n",
       "      <td>0.0</td>\n",
       "      <td>127.1</td>\n",
       "    </tr>\n",
       "    <tr>\n",
       "      <th>2021-12-31 23:00:00</th>\n",
       "      <td>24.92</td>\n",
       "      <td>127.5</td>\n",
       "      <td>0.0</td>\n",
       "      <td>127.7</td>\n",
       "    </tr>\n",
       "    <tr>\n",
       "      <th>2022-01-01 00:00:00</th>\n",
       "      <td>24.90</td>\n",
       "      <td>125.4</td>\n",
       "      <td>0.0</td>\n",
       "      <td>127.1</td>\n",
       "    </tr>\n",
       "  </tbody>\n",
       "</table>\n",
       "<p>43715 rows × 4 columns</p>\n",
       "</div>"
      ],
      "text/plain": [
       "                        wl   iqty  rain  tdqty\n",
       "date                                          \n",
       "2017-01-01 01:00:00  25.22  152.3   0.0   92.0\n",
       "2017-01-01 02:00:00  25.22  134.6   0.0   88.0\n",
       "2017-01-01 03:00:00  25.23  161.2   0.0   92.0\n",
       "2017-01-01 04:00:00  25.22   63.2   0.0   88.0\n",
       "2017-01-01 05:00:00  25.23  132.5   0.0   92.0\n",
       "...                    ...    ...   ...    ...\n",
       "2021-12-31 20:00:00  24.93  126.9   0.0  126.2\n",
       "2021-12-31 21:00:00  24.92  126.8   0.0  126.7\n",
       "2021-12-31 22:00:00  24.90  126.3   0.0  127.1\n",
       "2021-12-31 23:00:00  24.92  127.5   0.0  127.7\n",
       "2022-01-01 00:00:00  24.90  125.4   0.0  127.1\n",
       "\n",
       "[43715 rows x 4 columns]"
      ]
     },
     "execution_count": 36,
     "metadata": {},
     "output_type": "execute_result"
    }
   ],
   "source": [
    "df_dam.set_index('date', drop=True, inplace=True)\n",
    "df_dam"
   ]
  },
  {
   "cell_type": "code",
   "execution_count": 37,
   "id": "627a19e4",
   "metadata": {
    "ExecuteTime": {
     "end_time": "2022-12-06T11:01:42.578753Z",
     "start_time": "2022-12-06T11:01:42.571157Z"
    }
   },
   "outputs": [],
   "source": [
    "df_total = pd.merge(df_total, df_dam, left_index=True, right_index=True, how='left')"
   ]
  },
  {
   "cell_type": "code",
   "execution_count": 38,
   "id": "b7161250",
   "metadata": {
    "ExecuteTime": {
     "end_time": "2022-12-06T11:01:43.696307Z",
     "start_time": "2022-12-06T11:01:43.675134Z"
    }
   },
   "outputs": [
    {
     "data": {
      "text/html": [
       "<div>\n",
       "<style scoped>\n",
       "    .dataframe tbody tr th:only-of-type {\n",
       "        vertical-align: middle;\n",
       "    }\n",
       "\n",
       "    .dataframe tbody tr th {\n",
       "        vertical-align: top;\n",
       "    }\n",
       "\n",
       "    .dataframe thead th {\n",
       "        text-align: right;\n",
       "    }\n",
       "</style>\n",
       "<table border=\"1\" class=\"dataframe\">\n",
       "  <thead>\n",
       "    <tr style=\"text-align: right;\">\n",
       "      <th></th>\n",
       "      <th>tide</th>\n",
       "      <th>water_level</th>\n",
       "      <th>w_inflow</th>\n",
       "      <th>rain</th>\n",
       "      <th>total_out</th>\n",
       "    </tr>\n",
       "  </thead>\n",
       "  <tbody>\n",
       "    <tr>\n",
       "      <th>2017-01-01 00:00:00</th>\n",
       "      <td>268.0</td>\n",
       "      <td>NaN</td>\n",
       "      <td>NaN</td>\n",
       "      <td>NaN</td>\n",
       "      <td>NaN</td>\n",
       "    </tr>\n",
       "    <tr>\n",
       "      <th>2017-01-01 01:00:00</th>\n",
       "      <td>192.0</td>\n",
       "      <td>25.22</td>\n",
       "      <td>152.3</td>\n",
       "      <td>0.0</td>\n",
       "      <td>92.0</td>\n",
       "    </tr>\n",
       "    <tr>\n",
       "      <th>2017-01-01 02:00:00</th>\n",
       "      <td>132.0</td>\n",
       "      <td>25.22</td>\n",
       "      <td>134.6</td>\n",
       "      <td>0.0</td>\n",
       "      <td>88.0</td>\n",
       "    </tr>\n",
       "    <tr>\n",
       "      <th>2017-01-01 03:00:00</th>\n",
       "      <td>89.0</td>\n",
       "      <td>25.23</td>\n",
       "      <td>161.2</td>\n",
       "      <td>0.0</td>\n",
       "      <td>92.0</td>\n",
       "    </tr>\n",
       "    <tr>\n",
       "      <th>2017-01-01 04:00:00</th>\n",
       "      <td>176.0</td>\n",
       "      <td>25.22</td>\n",
       "      <td>63.2</td>\n",
       "      <td>0.0</td>\n",
       "      <td>88.0</td>\n",
       "    </tr>\n",
       "    <tr>\n",
       "      <th>...</th>\n",
       "      <td>...</td>\n",
       "      <td>...</td>\n",
       "      <td>...</td>\n",
       "      <td>...</td>\n",
       "      <td>...</td>\n",
       "    </tr>\n",
       "    <tr>\n",
       "      <th>2021-12-30 20:00:00</th>\n",
       "      <td>203.0</td>\n",
       "      <td>24.93</td>\n",
       "      <td>124.5</td>\n",
       "      <td>0.0</td>\n",
       "      <td>125.8</td>\n",
       "    </tr>\n",
       "    <tr>\n",
       "      <th>2021-12-30 21:00:00</th>\n",
       "      <td>142.0</td>\n",
       "      <td>24.94</td>\n",
       "      <td>124.8</td>\n",
       "      <td>0.0</td>\n",
       "      <td>125.5</td>\n",
       "    </tr>\n",
       "    <tr>\n",
       "      <th>2021-12-30 22:00:00</th>\n",
       "      <td>92.0</td>\n",
       "      <td>24.93</td>\n",
       "      <td>125.7</td>\n",
       "      <td>0.0</td>\n",
       "      <td>125.8</td>\n",
       "    </tr>\n",
       "    <tr>\n",
       "      <th>2021-12-30 23:00:00</th>\n",
       "      <td>124.0</td>\n",
       "      <td>24.93</td>\n",
       "      <td>0.0</td>\n",
       "      <td>0.0</td>\n",
       "      <td>125.9</td>\n",
       "    </tr>\n",
       "    <tr>\n",
       "      <th>2021-12-31 00:00:00</th>\n",
       "      <td>200.0</td>\n",
       "      <td>24.92</td>\n",
       "      <td>122.2</td>\n",
       "      <td>0.0</td>\n",
       "      <td>123.2</td>\n",
       "    </tr>\n",
       "  </tbody>\n",
       "</table>\n",
       "<p>43801 rows × 5 columns</p>\n",
       "</div>"
      ],
      "text/plain": [
       "                      tide  water_level  w_inflow  rain  total_out\n",
       "2017-01-01 00:00:00  268.0          NaN       NaN   NaN        NaN\n",
       "2017-01-01 01:00:00  192.0        25.22     152.3   0.0       92.0\n",
       "2017-01-01 02:00:00  132.0        25.22     134.6   0.0       88.0\n",
       "2017-01-01 03:00:00   89.0        25.23     161.2   0.0       92.0\n",
       "2017-01-01 04:00:00  176.0        25.22      63.2   0.0       88.0\n",
       "...                    ...          ...       ...   ...        ...\n",
       "2021-12-30 20:00:00  203.0        24.93     124.5   0.0      125.8\n",
       "2021-12-30 21:00:00  142.0        24.94     124.8   0.0      125.5\n",
       "2021-12-30 22:00:00   92.0        24.93     125.7   0.0      125.8\n",
       "2021-12-30 23:00:00  124.0        24.93       0.0   0.0      125.9\n",
       "2021-12-31 00:00:00  200.0        24.92     122.2   0.0      123.2\n",
       "\n",
       "[43801 rows x 5 columns]"
      ]
     },
     "execution_count": 38,
     "metadata": {},
     "output_type": "execute_result"
    }
   ],
   "source": [
    "df_total.rename(columns={'wl':'water_level', 'iqty':'w_inflow', 'tdqty' : 'total_out'})"
   ]
  },
  {
   "cell_type": "code",
   "execution_count": 15,
   "id": "7c5ce6cf",
   "metadata": {
    "ExecuteTime": {
     "end_time": "2022-12-05T14:22:58.450495Z",
     "start_time": "2022-12-05T14:22:58.447176Z"
    }
   },
   "outputs": [
    {
     "data": {
      "text/plain": [
       "tide     905\n",
       "wl       110\n",
       "iqty     187\n",
       "rain     110\n",
       "tdqty    110\n",
       "dtype: int64"
      ]
     },
     "execution_count": 15,
     "metadata": {},
     "output_type": "execute_result"
    }
   ],
   "source": [
    "# df_total.isna().sum()"
   ]
  },
  {
   "cell_type": "code",
   "execution_count": 19,
   "id": "bf3e118c",
   "metadata": {
    "ExecuteTime": {
     "end_time": "2022-12-05T14:25:37.260938Z",
     "start_time": "2022-12-05T14:25:37.237442Z"
    }
   },
   "outputs": [
    {
     "data": {
      "text/plain": [
       "tide     0\n",
       "wl       1\n",
       "iqty     1\n",
       "rain     1\n",
       "tdqty    1\n",
       "dtype: int64"
      ]
     },
     "execution_count": 19,
     "metadata": {},
     "output_type": "execute_result"
    }
   ],
   "source": [
    "# df_ex = df_total.interpolate()\n",
    "# df_ex = df_total.fillna(0)\n",
    "# df_ex.isna().sum()"
   ]
  },
  {
   "cell_type": "code",
   "execution_count": 20,
   "id": "edfd0e82",
   "metadata": {
    "ExecuteTime": {
     "end_time": "2022-12-05T14:25:58.195679Z",
     "start_time": "2022-12-05T14:25:58.182763Z"
    }
   },
   "outputs": [
    {
     "data": {
      "text/html": [
       "<div>\n",
       "<style scoped>\n",
       "    .dataframe tbody tr th:only-of-type {\n",
       "        vertical-align: middle;\n",
       "    }\n",
       "\n",
       "    .dataframe tbody tr th {\n",
       "        vertical-align: top;\n",
       "    }\n",
       "\n",
       "    .dataframe thead th {\n",
       "        text-align: right;\n",
       "    }\n",
       "</style>\n",
       "<table border=\"1\" class=\"dataframe\">\n",
       "  <thead>\n",
       "    <tr style=\"text-align: right;\">\n",
       "      <th></th>\n",
       "      <th>tide</th>\n",
       "      <th>wl</th>\n",
       "      <th>iqty</th>\n",
       "      <th>rain</th>\n",
       "      <th>tdqty</th>\n",
       "    </tr>\n",
       "  </thead>\n",
       "  <tbody>\n",
       "    <tr>\n",
       "      <th>2017-01-01 00:00:00</th>\n",
       "      <td>268.0</td>\n",
       "      <td>NaN</td>\n",
       "      <td>NaN</td>\n",
       "      <td>NaN</td>\n",
       "      <td>NaN</td>\n",
       "    </tr>\n",
       "    <tr>\n",
       "      <th>2017-01-01 01:00:00</th>\n",
       "      <td>192.0</td>\n",
       "      <td>25.22</td>\n",
       "      <td>152.3</td>\n",
       "      <td>0.0</td>\n",
       "      <td>92.0</td>\n",
       "    </tr>\n",
       "    <tr>\n",
       "      <th>2017-01-01 02:00:00</th>\n",
       "      <td>132.0</td>\n",
       "      <td>25.22</td>\n",
       "      <td>134.6</td>\n",
       "      <td>0.0</td>\n",
       "      <td>88.0</td>\n",
       "    </tr>\n",
       "    <tr>\n",
       "      <th>2017-01-01 03:00:00</th>\n",
       "      <td>89.0</td>\n",
       "      <td>25.23</td>\n",
       "      <td>161.2</td>\n",
       "      <td>0.0</td>\n",
       "      <td>92.0</td>\n",
       "    </tr>\n",
       "    <tr>\n",
       "      <th>2017-01-01 04:00:00</th>\n",
       "      <td>176.0</td>\n",
       "      <td>25.22</td>\n",
       "      <td>63.2</td>\n",
       "      <td>0.0</td>\n",
       "      <td>88.0</td>\n",
       "    </tr>\n",
       "  </tbody>\n",
       "</table>\n",
       "</div>"
      ],
      "text/plain": [
       "                      tide     wl   iqty  rain  tdqty\n",
       "2017-01-01 00:00:00  268.0    NaN    NaN   NaN    NaN\n",
       "2017-01-01 01:00:00  192.0  25.22  152.3   0.0   92.0\n",
       "2017-01-01 02:00:00  132.0  25.22  134.6   0.0   88.0\n",
       "2017-01-01 03:00:00   89.0  25.23  161.2   0.0   92.0\n",
       "2017-01-01 04:00:00  176.0  25.22   63.2   0.0   88.0"
      ]
     },
     "execution_count": 20,
     "metadata": {},
     "output_type": "execute_result"
    }
   ],
   "source": [
    "# df_ex.head()"
   ]
  }
 ],
 "metadata": {
  "kernelspec": {
   "display_name": "tf25",
   "language": "python",
   "name": "tf25"
  },
  "language_info": {
   "codemirror_mode": {
    "name": "ipython",
    "version": 3
   },
   "file_extension": ".py",
   "mimetype": "text/x-python",
   "name": "python",
   "nbconvert_exporter": "python",
   "pygments_lexer": "ipython3",
   "version": "3.8.12"
  }
 },
 "nbformat": 4,
 "nbformat_minor": 5
}
